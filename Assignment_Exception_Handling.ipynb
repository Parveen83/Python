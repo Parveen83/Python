{
 "cells": [
  {
   "cell_type": "code",
   "execution_count": 2,
   "id": "3ff83503",
   "metadata": {},
   "outputs": [
    {
     "name": "stdout",
     "output_type": "stream",
     "text": [
      "division by zero\n"
     ]
    }
   ],
   "source": [
    "try:\n",
    "    a=5/0\n",
    "except Exception as e:\n",
    "    print(e)"
   ]
  },
  {
   "cell_type": "code",
   "execution_count": 74,
   "id": "b4d70d5a",
   "metadata": {},
   "outputs": [
    {
     "name": "stdout",
     "output_type": "stream",
     "text": [
      "4\n",
      "Americans play Baseball\n",
      "Americans watch Baseball\n",
      "Indians play Baseball\n",
      "Indians watch Baseball\n",
      "Americans play Cricket\n",
      "Americans watch Cricket\n",
      "Indians play Cricket\n",
      "Indians watch Cricket\n"
     ]
    }
   ],
   "source": [
    "subjects = [\"Americans\", \"Indians\"]\n",
    "verbs = [\"play\", \"watch\"]\n",
    "objects = [\"Baseball\", \"Cricket\"]\n",
    "li=[]\n",
    "for i in subjects:\n",
    "    str1=\"\"\n",
    "    for j in verbs:\n",
    "        str1=i+\" \"+j\n",
    "        li.append(str1)\n",
    "print(len(li))\n",
    "li1=[]\n",
    "for k in objects:    \n",
    "    for i in range(len(li)):\n",
    "        li1.append(li[i] + \" \" +k)    \n",
    "for i in li1:\n",
    "    print(i)  \n"
   ]
  },
  {
   "cell_type": "code",
   "execution_count": null,
   "id": "bf588f1e",
   "metadata": {},
   "outputs": [],
   "source": []
  },
  {
   "cell_type": "code",
   "execution_count": null,
   "id": "5958aa85",
   "metadata": {},
   "outputs": [],
   "source": []
  }
 ],
 "metadata": {
  "kernelspec": {
   "display_name": "Python 3",
   "language": "python",
   "name": "python3"
  },
  "language_info": {
   "codemirror_mode": {
    "name": "ipython",
    "version": 3
   },
   "file_extension": ".py",
   "mimetype": "text/x-python",
   "name": "python",
   "nbconvert_exporter": "python",
   "pygments_lexer": "ipython3",
   "version": "3.8.8"
  }
 },
 "nbformat": 4,
 "nbformat_minor": 5
}
