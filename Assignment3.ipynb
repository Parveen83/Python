{
 "cells": [
  {
   "cell_type": "code",
   "execution_count": 106,
   "id": "3dd1cf76",
   "metadata": {},
   "outputs": [
    {
     "data": {
      "text/plain": [
       "24"
      ]
     },
     "execution_count": 106,
     "metadata": {},
     "output_type": "execute_result"
    }
   ],
   "source": [
    "def my_prod(a, b):\n",
    "    prod = a* b\n",
    "    return prod\n",
    "\n",
    "def my_reduce(fun, numbers):\n",
    "    total=0\n",
    "    for i in range(len(numbers)):\n",
    "       # print(i, total)\n",
    "        if i == 0:\n",
    "            total = fun(numbers[i],numbers[i+1])\n",
    "        elif i != 1:\n",
    "            total = fun(numbers[i],total)\n",
    "    return total\n",
    "\n",
    "numbers = [1,2,3,4]\n",
    "my_reduce(my_prod, numbers)\n",
    "        "
   ]
  },
  {
   "cell_type": "code",
   "execution_count": 117,
   "id": "304a73a0",
   "metadata": {},
   "outputs": [
    {
     "name": "stdout",
     "output_type": "stream",
     "text": [
      "[0, 1, 2, 3, 4, 5, 6, 7, 8, 9, 10, 11, 12, 20]\n",
      "[0, 2, 4, 6, 8, 10, 12, 20]\n"
     ]
    }
   ],
   "source": [
    "def my_fun(number):\n",
    "    if number % 2 == 0:\n",
    "        flag = True\n",
    "    else:\n",
    "        flag = False\n",
    "    return flag\n",
    " \n",
    "def my_filter(fun,numbers):\n",
    "    count=0\n",
    "    li=[]\n",
    "    for i in range(len(numbers)):\n",
    "        flag = fun(numbers[i])\n",
    "        if flag == True:\n",
    "            li.append(numbers[i])\n",
    "            count=count+1\n",
    "    return li\n",
    "            \n",
    "l = [0,1,2,3,4,5,6,7,8,9,10,11,12,20] \n",
    "print(l)\n",
    "li_filtered=[]\n",
    "li_filtered=my_filter(my_fun,l)\n",
    "\n",
    "print(li_filtered)"
   ]
  },
  {
   "cell_type": "code",
   "execution_count": 11,
   "id": "4e921108",
   "metadata": {},
   "outputs": [
    {
     "name": "stdout",
     "output_type": "stream",
     "text": [
      "['x', 'xx', 'xxx', 'xxxx', 'y', 'yy', 'yyy', 'yyyy', 'z', 'zz', 'zzz', 'zzzz']\n"
     ]
    }
   ],
   "source": [
    "li = []\n",
    "ch = ['x','y','z']\n",
    "n=4\n",
    "\n",
    "for i in range(len(ch)):\n",
    "    for j in range(n):\n",
    "        li.append(ch[i]*(j+1))\n",
    "        \n",
    "print(li)"
   ]
  },
  {
   "cell_type": "code",
   "execution_count": 13,
   "id": "932b05a0",
   "metadata": {},
   "outputs": [
    {
     "name": "stdout",
     "output_type": "stream",
     "text": [
      "['x', 'y', 'z', 'xx', 'yy', 'zz', 'xxx', 'yyy', 'zzz', 'xxxx', 'yyyy', 'zzzz']\n"
     ]
    }
   ],
   "source": [
    "li = []\n",
    "ch = ['x','y','z']\n",
    "n=4\n",
    "\n",
    "for i in range(n):\n",
    "    for j in range(len(ch)):\n",
    "        li.append(ch[j]*(i+1))\n",
    "        \n",
    "print(li)"
   ]
  },
  {
   "cell_type": "code",
   "execution_count": 100,
   "id": "80c137dc",
   "metadata": {},
   "outputs": [
    {
     "data": {
      "text/plain": [
       "[[2], [3], [4], [3], [4], [5], [4], [5], [6]]"
      ]
     },
     "execution_count": 100,
     "metadata": {},
     "output_type": "execute_result"
    }
   ],
   "source": [
    "a=[[2],[3],[4]]\n",
    "b=[]\n",
    "\n",
    "for i in range(9):\n",
    "    b.append([])\n",
    "\n",
    "for i in range(3):\n",
    "    for j in range(3):\n",
    "        b[j+i*3].append(a[j][0]+i)  \n",
    "b\n"
   ]
  },
  {
   "cell_type": "code",
   "execution_count": 105,
   "id": "b7d0a712",
   "metadata": {},
   "outputs": [
    {
     "data": {
      "text/plain": [
       "[[2, 3, 4], [3, 4, 5], [4, 5, 6], [5, 6, 7]]"
      ]
     },
     "execution_count": 105,
     "metadata": {},
     "output_type": "execute_result"
    }
   ],
   "source": [
    "a = [2,3,4,5]\n",
    "b = []\n",
    "li=[]\n",
    "for i in range(4):\n",
    "    b.append([])\n",
    "for j in range(3):\n",
    "    for i in range(len(a)):\n",
    "        b[i].append(a[i]+j)\n",
    "b"
   ]
  },
  {
   "cell_type": "code",
   "execution_count": 18,
   "id": "770e246c",
   "metadata": {},
   "outputs": [
    {
     "name": "stdout",
     "output_type": "stream",
     "text": [
      "[(1, 1), (2, 1), (3, 1), (1, 2), (2, 2), (3, 2), (1, 3), (2, 3), (3, 3)]\n"
     ]
    }
   ],
   "source": [
    "li = [(1,1),(2,1),(3,1)]\n",
    "new = []\n",
    "\n",
    "for k in range(3):\n",
    "    for i in range(len(li)):\n",
    "        x = [0,0]\n",
    "        for j in range(2):\n",
    "            if j==0:\n",
    "                x[j]=li[i][j]\n",
    "            else:\n",
    "                x[j]=li[i][j]+k\n",
    "        new.append(tuple(x))\n",
    "print(new)\n",
    "    "
   ]
  },
  {
   "cell_type": "code",
   "execution_count": null,
   "id": "f1f18212",
   "metadata": {},
   "outputs": [],
   "source": []
  }
 ],
 "metadata": {
  "kernelspec": {
   "display_name": "Python 3",
   "language": "python",
   "name": "python3"
  },
  "language_info": {
   "codemirror_mode": {
    "name": "ipython",
    "version": 3
   },
   "file_extension": ".py",
   "mimetype": "text/x-python",
   "name": "python",
   "nbconvert_exporter": "python",
   "pygments_lexer": "ipython3",
   "version": "3.8.8"
  }
 },
 "nbformat": 4,
 "nbformat_minor": 5
}
