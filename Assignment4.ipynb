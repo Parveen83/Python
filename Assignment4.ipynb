{
 "cells": [
  {
   "cell_type": "code",
   "execution_count": 41,
   "id": "701e1ee5",
   "metadata": {},
   "outputs": [],
   "source": [
    "class sides_of_triangle:\n",
    "    def __init__(self,a,b,c):\n",
    "        self.a=a\n",
    "        self.b=b\n",
    "        self.c=c\n",
    "\n",
    "class area_of_traingle(sides_of_triangle):\n",
    "    def __init__(self,a,b,c):\n",
    "        sides_of_triangle.__init__(self,a,b,c)\n",
    "        \n",
    "    def area(self):\n",
    "        p=float((self.a+self.b+self.c)/2)\n",
    "        print(p)\n",
    "        area = (p*(p-self.a)*(p-self.b)*(p-self.c))**0.5\n",
    "        rounded = round(area,2)\n",
    "        return rounded\n",
    "        "
   ]
  },
  {
   "cell_type": "code",
   "execution_count": 42,
   "id": "4e4e23de",
   "metadata": {},
   "outputs": [],
   "source": [
    "traingle=area_of_traingle(8,3,9)\n"
   ]
  },
  {
   "cell_type": "code",
   "execution_count": 43,
   "id": "a253fd38",
   "metadata": {},
   "outputs": [
    {
     "name": "stdout",
     "output_type": "stream",
     "text": [
      "10.0\n",
      "11.83\n"
     ]
    }
   ],
   "source": [
    "s=traingle.area()\n",
    "print(s)"
   ]
  },
  {
   "cell_type": "code",
   "execution_count": 6,
   "id": "b3d943f2",
   "metadata": {},
   "outputs": [
    {
     "name": "stdout",
     "output_type": "stream",
     "text": [
      "Enter the length of string to be4\n",
      "['Parveen', 'Sharmila', 'Hacna']\n"
     ]
    }
   ],
   "source": [
    "def filter_long_words(words, number):\n",
    "    li=[]\n",
    "    for i in words:\n",
    "        if len(i) > number:\n",
    "            li.append(i)\n",
    "    return li\n",
    "    \n",
    "\n",
    "n = int(input(\"Enter the length of string to be\"))\n",
    "words = ['Parveen', 'Sharmila', 'Wahi', 'Hacna', 'Dngu']\n",
    "filtered_words = filter_long_words(words, n)\n",
    "print(filtered_words)\n",
    "    "
   ]
  },
  {
   "cell_type": "code",
   "execution_count": 8,
   "id": "016fee32",
   "metadata": {},
   "outputs": [
    {
     "name": "stdout",
     "output_type": "stream",
     "text": [
      "[7, 8, 4, 5, 4]\n"
     ]
    }
   ],
   "source": [
    "def length_of_words(words):\n",
    "    li=[]\n",
    "    for i in words:\n",
    "        li.append(len(i))\n",
    "    return li\n",
    "\n",
    "words = ['Parveen', 'Sharmila', 'Wahi', 'Hacna', 'Dngu']\n",
    "length_of_words = length_of_words(words)\n",
    "print(length_of_words)\n"
   ]
  },
  {
   "cell_type": "code",
   "execution_count": 15,
   "id": "c30d49de",
   "metadata": {},
   "outputs": [
    {
     "name": "stdout",
     "output_type": "stream",
     "text": [
      "Enter the characterz\n",
      "Its a consonant\n"
     ]
    }
   ],
   "source": [
    "def is_Vowel(character):\n",
    "    Vowels=['a','e','i','o','u']\n",
    "   \n",
    "    if character in Vowels:\n",
    "        Flag = True\n",
    "    else:\n",
    "        Flag = False\n",
    "    return Flag\n",
    "\n",
    "character = input(\"Enter the character\")\n",
    "if is_Vowel(character):\n",
    "    print(\"Its a vowel\")\n",
    "else:\n",
    "    print(\"Its a consonant\")\n",
    "    \n",
    "    \n",
    "    "
   ]
  },
  {
   "cell_type": "code",
   "execution_count": null,
   "id": "779edd83",
   "metadata": {},
   "outputs": [],
   "source": []
  },
  {
   "cell_type": "code",
   "execution_count": null,
   "id": "9f32a4db",
   "metadata": {},
   "outputs": [],
   "source": []
  }
 ],
 "metadata": {
  "kernelspec": {
   "display_name": "Python 3",
   "language": "python",
   "name": "python3"
  },
  "language_info": {
   "codemirror_mode": {
    "name": "ipython",
    "version": 3
   },
   "file_extension": ".py",
   "mimetype": "text/x-python",
   "name": "python",
   "nbconvert_exporter": "python",
   "pygments_lexer": "ipython3",
   "version": "3.8.8"
  }
 },
 "nbformat": 4,
 "nbformat_minor": 5
}
