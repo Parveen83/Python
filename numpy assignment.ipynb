{
 "cells": [
  {
   "cell_type": "code",
   "execution_count": 1,
   "id": "d84bb180",
   "metadata": {},
   "outputs": [],
   "source": [
    "import numpy as np"
   ]
  },
  {
   "cell_type": "code",
   "execution_count": 8,
   "id": "404b2c6a",
   "metadata": {},
   "outputs": [
    {
     "data": {
      "text/plain": [
       "array([[   32,    16,     8,     4,     2,     1],\n",
       "       [   32,    16,     8,     4,     2,     1],\n",
       "       [  243,    81,    27,     9,     3,     1],\n",
       "       [ 3125,   625,   125,    25,     5,     1],\n",
       "       [ 7776,  1296,   216,    36,     6,     1],\n",
       "       [16807,  2401,   343,    49,     7,     1]])"
      ]
     },
     "execution_count": 8,
     "metadata": {},
     "output_type": "execute_result"
    }
   ],
   "source": [
    "x = np.array([2, 2, 3, 5, 6, 7])\n",
    "N = 6\n",
    "np.vander(x, N)"
   ]
  },
  {
   "cell_type": "code",
   "execution_count": 23,
   "id": "282f471d",
   "metadata": {},
   "outputs": [],
   "source": [
    "ip=np.array([3, 5, 7, 2, 8, 10, 11, 65, 72, 81, 99, 100, 150])"
   ]
  },
  {
   "cell_type": "code",
   "execution_count": 24,
   "id": "bebaca25",
   "metadata": {},
   "outputs": [],
   "source": [
    "moving_avg_seq_values=len(ip)-3+1\n"
   ]
  },
  {
   "cell_type": "code",
   "execution_count": 26,
   "id": "04f7d911",
   "metadata": {},
   "outputs": [
    {
     "name": "stdout",
     "output_type": "stream",
     "text": [
      "[None None None None None None None None None None None]\n",
      "[5.0 4.666666666666667 5.666666666666667 6.666666666666667\n",
      " 9.666666666666666 28.666666666666668 49.333333333333336 72.66666666666667\n",
      " 84.0 93.33333333333333 116.33333333333333]\n"
     ]
    }
   ],
   "source": [
    "op = np.empty(moving_avg_seq_values, dtype=object)\n",
    "print(op)\n",
    "for i in range(11):\n",
    "    op[i]=(ip[i]+ip[i+1]+ip[i+2])/3\n",
    "print(op)"
   ]
  },
  {
   "cell_type": "code",
   "execution_count": null,
   "id": "c52f0ebd",
   "metadata": {},
   "outputs": [],
   "source": []
  }
 ],
 "metadata": {
  "kernelspec": {
   "display_name": "Python 3",
   "language": "python",
   "name": "python3"
  },
  "language_info": {
   "codemirror_mode": {
    "name": "ipython",
    "version": 3
   },
   "file_extension": ".py",
   "mimetype": "text/x-python",
   "name": "python",
   "nbconvert_exporter": "python",
   "pygments_lexer": "ipython3",
   "version": "3.8.8"
  }
 },
 "nbformat": 4,
 "nbformat_minor": 5
}
